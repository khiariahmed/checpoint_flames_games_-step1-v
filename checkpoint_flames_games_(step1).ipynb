{
  "nbformat": 4,
  "nbformat_minor": 0,
  "metadata": {
    "colab": {
      "name": "checkpoint flames games (step1)",
      "provenance": []
    },
    "kernelspec": {
      "display_name": "Python 3",
      "name": "python3"
    },
    "language_info": {
      "name": "python"
    }
  },
  "cells": [
    {
      "cell_type": "code",
      "metadata": {
        "id": "qjYq577WHHKK"
      },
      "source": [
        "\n",
        "def remove_match_char(list1, list2):\n",
        " \n",
        "    for i in range(len(list1)) :\n",
        "        for j in range(len(list2)) :\n",
        " \n",
        "            \n",
        "            if list1[i] == list2[j] :\n",
        "                c = list1[i]\n",
        " \n",
        "                \n",
        "                list1.remove(c)\n",
        "                list2.remove(c)\n",
        " \n",
        "                \n",
        "                list3 = list1 + [\"*\"] + list2\n",
        " \n",
        "                \n",
        "                return [list3, True]\n",
        " \n",
        "    \n",
        "    list3 = list1 + [\"*\"] + list2\n",
        "    return [list3, False]"
      ],
      "execution_count": 30,
      "outputs": []
    }
  ]
}